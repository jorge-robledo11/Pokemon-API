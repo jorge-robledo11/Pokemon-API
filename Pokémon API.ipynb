{
 "cells": [
  {
   "cell_type": "code",
   "execution_count": 1,
   "metadata": {},
   "outputs": [],
   "source": [
    "import requests\n",
    "from IPython.display import Image, display\n",
    "\n",
    "\n",
    "def read_tipos_espanol(file_path):\n",
    "    # Lee el archivo tipos_espanol.txt y crea el diccionario de mapeo de tipos en español\n",
    "    tipos_espanol = {}\n",
    "    with open(file_path, 'r', encoding='utf-8') as file:\n",
    "        for line in file:\n",
    "            tipo_ingles, tipo_espanol = line.strip().split(' ')\n",
    "            tipos_espanol[tipo_ingles] = tipo_espanol\n",
    "    return tipos_espanol\n",
    "\n",
    "\n",
    "def get_ability_name_es(ability_url):\n",
    "    # Obtiene el nombre de la habilidad en español utilizando la URL de la habilidad\n",
    "    response = requests.get(ability_url)\n",
    "    if response.status_code == 200:\n",
    "        data = response.json()\n",
    "        names = data['names']\n",
    "        for name_data in names:\n",
    "            if name_data['language']['name'] == 'es':\n",
    "                return name_data['name']\n",
    "    return None\n",
    "\n",
    "\n",
    "def format_stat_name(stat_name):\n",
    "    # Formatea el nombre de una estadística según el caso\n",
    "    stat_name = stat_name.lower()\n",
    "    if stat_name == 'hp':\n",
    "        return 'HP'\n",
    "    elif stat_name == 'special-attack':\n",
    "        return 'Ataque Especial'\n",
    "    elif stat_name == 'special-defense':\n",
    "        return 'Defensa Especial'\n",
    "    return stat_name.capitalize()\n",
    "\n",
    "\n",
    "def get_pokemon_summary(pokemon_name):\n",
    "    # Obtiene y muestra información del Pokémon, incluyendo imagen, tipos, estadísticas y habilidades\n",
    "    base_url = 'https://pokeapi.co/api/v2/pokemon/'\n",
    "    url = f'{base_url}{pokemon_name.lower()}/'\n",
    "\n",
    "    response = requests.get(url)\n",
    "\n",
    "    if response.status_code == 200:\n",
    "        data = response.json()\n",
    "\n",
    "        # Obtiene y muestra la imagen del Pokémon con un tamaño más grande (width=200, height=200)\n",
    "        sprite_url = data['sprites']['front_default']\n",
    "        try:\n",
    "            display(Image(url=sprite_url, width=175, height=175))\n",
    "        except Exception as e:\n",
    "            print(f'No se pudo obtener la imagen del Pokémon: {e}')\n",
    "\n",
    "        # Obtiene y muestra los tipos del Pokémon en español\n",
    "        tipos_espanol = read_tipos_espanol('tipos_espanol.txt')\n",
    "        types = [tipos_espanol[t['type']['name']] for t in data['types']]\n",
    "        print('Tipo(s):', ', '.join(types), '\\n')\n",
    "\n",
    "        # Obtiene y muestra las estadísticas del Pokémon\n",
    "        stats = data['stats']\n",
    "        for stat in stats:\n",
    "            stat_name = stat['stat']['name']\n",
    "            formatted_stat_name = format_stat_name(stat_name)\n",
    "            stat_value = stat['base_stat']\n",
    "            print(f'{formatted_stat_name}: {stat_value}')\n",
    "\n",
    "        # Obtiene y muestra las habilidades del Pokémon junto con sus descripciones en español\n",
    "        abilities = data['abilities']\n",
    "        for ability_data in abilities:\n",
    "            ability_name_en = ability_data['ability']['name']\n",
    "            ability_url = ability_data['ability']['url']\n",
    "            ability_name_es = get_ability_name_es(ability_url)\n",
    "\n",
    "            if ability_name_es:\n",
    "                print(f'\\nHabilidad: {ability_name_es.capitalize()}')\n",
    "            else:\n",
    "                print(f'\\nNo se pudo obtener información de la habilidad: {ability_name_en}')\n",
    "\n",
    "            ability_response = requests.get(ability_url)\n",
    "            if ability_response.status_code == 200:\n",
    "                ability_data = ability_response.json()\n",
    "                flavor_text_entries = ability_data['flavor_text_entries']\n",
    "                # Busca la primera descripción en español (language_id = 7)\n",
    "                description = next(\n",
    "                    (entry['flavor_text'] for entry in flavor_text_entries if entry['language']['name'] == 'es'),\n",
    "                    None\n",
    "                )\n",
    "                if description:\n",
    "                    description = description.replace('\\n', ' ')  # Remueve saltos de línea para mejor formato\n",
    "                    print(f'Descripción: {description}')\n",
    "                else:\n",
    "                    print(f'No se pudo obtener descripción en español de la habilidad: {ability_name_es}')\n",
    "\n",
    "    else:\n",
    "        print('No se pudo obtener la información del Pokémon.')"
   ]
  },
  {
   "cell_type": "code",
   "execution_count": 2,
   "metadata": {},
   "outputs": [
    {
     "data": {
      "text/html": [
       "<img src=\"https://raw.githubusercontent.com/PokeAPI/sprites/master/sprites/pokemon/637.png\" width=\"175\" height=\"175\"/>"
      ],
      "text/plain": [
       "<IPython.core.display.Image object>"
      ]
     },
     "metadata": {},
     "output_type": "display_data"
    },
    {
     "name": "stdout",
     "output_type": "stream",
     "text": [
      "Tipo(s): Bicho, Fuego \n",
      "\n",
      "HP: 85\n",
      "Attack: 60\n",
      "Defense: 65\n",
      "Ataque Especial: 135\n",
      "Defensa Especial: 105\n",
      "Speed: 100\n",
      "\n",
      "Habilidad: Cuerpo llama\n",
      "Descripción: Puede quemar al mínimo contacto.\n",
      "\n",
      "Habilidad: Enjambre\n",
      "Descripción: Potencia los ataques de tipo Bicho en un apuro.\n"
     ]
    }
   ],
   "source": [
    "# Obtener estadísticas, imagen, tipo y habilidades de algún pokemon\n",
    "get_pokemon_summary('volcarona')"
   ]
  },
  {
   "cell_type": "code",
   "execution_count": 3,
   "metadata": {},
   "outputs": [
    {
     "data": {
      "text/html": [
       "<img src=\"https://raw.githubusercontent.com/PokeAPI/sprites/master/sprites/pokemon/94.png\" width=\"175\" height=\"175\"/>"
      ],
      "text/plain": [
       "<IPython.core.display.Image object>"
      ]
     },
     "metadata": {},
     "output_type": "display_data"
    },
    {
     "name": "stdout",
     "output_type": "stream",
     "text": [
      "Tipo(s): Fantasma, Veneno \n",
      "\n",
      "HP: 60\n",
      "Attack: 65\n",
      "Defense: 60\n",
      "Ataque Especial: 130\n",
      "Defensa Especial: 75\n",
      "Speed: 110\n",
      "\n",
      "Habilidad: Cuerpo maldito\n",
      "Descripción: Puede anular el movimiento usado en su contra.\n"
     ]
    }
   ],
   "source": [
    "# Obtener estadísticas, imagen, tipo y habilidades de algún pokemon\n",
    "get_pokemon_summary('gengar')"
   ]
  },
  {
   "cell_type": "code",
   "execution_count": 4,
   "metadata": {},
   "outputs": [
    {
     "data": {
      "text/html": [
       "<img src=\"https://raw.githubusercontent.com/PokeAPI/sprites/master/sprites/pokemon/212.png\" width=\"175\" height=\"175\"/>"
      ],
      "text/plain": [
       "<IPython.core.display.Image object>"
      ]
     },
     "metadata": {},
     "output_type": "display_data"
    },
    {
     "name": "stdout",
     "output_type": "stream",
     "text": [
      "Tipo(s): Bicho, Acero \n",
      "\n",
      "HP: 70\n",
      "Attack: 130\n",
      "Defense: 100\n",
      "Ataque Especial: 55\n",
      "Defensa Especial: 80\n",
      "Speed: 65\n",
      "\n",
      "Habilidad: Enjambre\n",
      "Descripción: Potencia los ataques de tipo Bicho en un apuro.\n",
      "\n",
      "Habilidad: Experto\n",
      "Descripción: Potencia los movimientos más débiles del Pokémon.\n",
      "\n",
      "Habilidad: Metal liviano\n",
      "Descripción: Reduce a la mitad el peso del Pokémon.\n"
     ]
    }
   ],
   "source": [
    "# Obtener estadísticas, imagen, tipo y habilidades de algún pokemon\n",
    "get_pokemon_summary('scizor')"
   ]
  },
  {
   "cell_type": "code",
   "execution_count": 5,
   "metadata": {},
   "outputs": [
    {
     "data": {
      "text/html": [
       "<img src=\"https://raw.githubusercontent.com/PokeAPI/sprites/master/sprites/pokemon/91.png\" width=\"175\" height=\"175\"/>"
      ],
      "text/plain": [
       "<IPython.core.display.Image object>"
      ]
     },
     "metadata": {},
     "output_type": "display_data"
    },
    {
     "name": "stdout",
     "output_type": "stream",
     "text": [
      "Tipo(s): Agua, Hielo \n",
      "\n",
      "HP: 50\n",
      "Attack: 95\n",
      "Defense: 180\n",
      "Ataque Especial: 85\n",
      "Defensa Especial: 45\n",
      "Speed: 70\n",
      "\n",
      "Habilidad: Caparazón\n",
      "Descripción: Bloquea los golpes críticos.\n",
      "\n",
      "Habilidad: Encadenado\n",
      "Descripción: Aumenta la frecuencia de los movimientos múltiples.\n",
      "\n",
      "Habilidad: Funda\n",
      "Descripción: Protege del polvo, la arena y el granizo.\n"
     ]
    }
   ],
   "source": [
    "# Obtener estadísticas, imagen, tipo y habilidades de algún pokemon\n",
    "get_pokemon_summary('cloyster')"
   ]
  },
  {
   "cell_type": "code",
   "execution_count": 6,
   "metadata": {},
   "outputs": [
    {
     "data": {
      "text/html": [
       "<img src=\"https://raw.githubusercontent.com/PokeAPI/sprites/master/sprites/pokemon/59.png\" width=\"175\" height=\"175\"/>"
      ],
      "text/plain": [
       "<IPython.core.display.Image object>"
      ]
     },
     "metadata": {},
     "output_type": "display_data"
    },
    {
     "name": "stdout",
     "output_type": "stream",
     "text": [
      "Tipo(s): Fuego \n",
      "\n",
      "HP: 90\n",
      "Attack: 110\n",
      "Defense: 80\n",
      "Ataque Especial: 100\n",
      "Defensa Especial: 80\n",
      "Speed: 95\n",
      "\n",
      "Habilidad: Intimidación\n",
      "Descripción: Baja el Ataque del rival.\n",
      "\n",
      "Habilidad: Absorbe fuego\n",
      "Descripción: Potencia movimientos de tipo Fuego si ha sufrido antes alguno.\n",
      "\n",
      "Habilidad: Justiciero\n",
      "Descripción: Sube el Ataque al recibir uno de tipo Siniestro.\n"
     ]
    }
   ],
   "source": [
    "# Obtener estadísticas, imagen, tipo y habilidades de algún pokemon\n",
    "get_pokemon_summary('arcanine')"
   ]
  }
 ],
 "metadata": {
  "kernelspec": {
   "display_name": "venv_prueba_barros",
   "language": "python",
   "name": "python3"
  },
  "language_info": {
   "codemirror_mode": {
    "name": "ipython",
    "version": 3
   },
   "file_extension": ".py",
   "mimetype": "text/x-python",
   "name": "python",
   "nbconvert_exporter": "python",
   "pygments_lexer": "ipython3",
   "version": "3.11.4"
  },
  "orig_nbformat": 4
 },
 "nbformat": 4,
 "nbformat_minor": 2
}
